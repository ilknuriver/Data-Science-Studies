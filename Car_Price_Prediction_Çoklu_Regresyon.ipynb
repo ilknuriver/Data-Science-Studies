{
 "cells": [
  {
   "cell_type": "code",
   "execution_count": 19,
   "id": "5d7c49e9-9f53-4558-b3e5-a04f35760815",
   "metadata": {},
   "outputs": [
    {
     "name": "stdout",
     "output_type": "stream",
     "text": [
      "Eğitim set doğruluk skoru: 0.0030191673177619727\n",
      "Test seti doğruluk skoru: -0.10707144029237914\n"
     ]
    }
   ],
   "source": [
    "# Gerekli kütüphaneleri import et\n",
    "import pandas as pd\n",
    "from sklearn.model_selection import train_test_split\n",
    "from sklearn.linear_model import LinearRegression\n",
    "from sklearn.preprocessing import LabelEncoder\n",
    "from sklearn.metrics import mean_squared_error, mean_absolute_error\n",
    "import matplotlib.pyplot as plt\n",
    "\n",
    "# Veri setini yükle\n",
    "df = pd.read_csv(r\"C:\\Users\\fatih\\OneDrive\\Desktop\\car_price_prediction.csv\")\n",
    "\n",
    "# \"-\" olan değerleri ortalama ile doldur\n",
    "df['Levy'].replace('-', pd.NA, inplace=True)\n",
    "df['Levy'].fillna(df['Levy'].dropna().astype(float).mean(), inplace=True)\n",
    "df['Levy'] = df['Levy'].astype(float)\n",
    "\n",
    "# Kategorik ve sayısal sütunları bul ve Kategorik sütunları etiket kodla\n",
    "obj_col = [\"Manufacturer\", \"Model\", \"Category\", \"Leather interior\", \"Fuel type\", \"Engine volume\", \"Gear box type\", \"Drive wheels\", \"Doors\", \"Wheel\", \"Color\"]\n",
    "le = LabelEncoder()\n",
    "for col in obj_col:\n",
    "    df[col] = le.fit_transform(df[col])\n",
    "\n",
    "# df.info()\n",
    "\n",
    "# Özellikleri ve hedef değişkeni belirle\n",
    "X = df.drop(columns=[\"ID\", \"Price\"])\n",
    "y = df['Price']\n",
    "\n",
    "# Train ve test setlerini oluştur\n",
    "X_train, X_test, y_train, y_test = train_test_split(X, y, test_size=0.2, random_state=42)\n",
    "\n",
    "# Modeli oluştur\n",
    "model = LinearRegression()\n",
    "\n",
    "# Modeli eğit\n",
    "model.fit(X_train, y_train)\n",
    "\n",
    "# Modelin doğruluk oranlarını yazdır\n",
    "train_accuracy = model.score(X_train, y_train)\n",
    "test_accuracy = model.score(X_test, y_test)\n",
    "\n",
    "print(\"Eğitim set doğruluk skoru:\", train_accuracy)\n",
    "print(\"Test seti doğruluk skoru:\", test_accuracy)\n"
   ]
  },
  {
   "cell_type": "code",
   "execution_count": null,
   "id": "f9026be8-e622-481f-8e7c-f4444b1ca10d",
   "metadata": {},
   "outputs": [],
   "source": []
  },
  {
   "cell_type": "code",
   "execution_count": null,
   "id": "fa8fe48e-1a91-4d42-bea7-e5cd6850d0e9",
   "metadata": {},
   "outputs": [],
   "source": []
  }
 ],
 "metadata": {
  "kernelspec": {
   "display_name": "Python 3 (ipykernel)",
   "language": "python",
   "name": "python3"
  },
  "language_info": {
   "codemirror_mode": {
    "name": "ipython",
    "version": 3
   },
   "file_extension": ".py",
   "mimetype": "text/x-python",
   "name": "python",
   "nbconvert_exporter": "python",
   "pygments_lexer": "ipython3",
   "version": "3.11.7"
  }
 },
 "nbformat": 4,
 "nbformat_minor": 5
}
