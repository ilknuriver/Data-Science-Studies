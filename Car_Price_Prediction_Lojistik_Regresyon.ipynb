{
 "cells": [
  {
   "cell_type": "code",
   "execution_count": null,
   "id": "12030273-10f1-4d08-aa09-7d0f6625b1e8",
   "metadata": {},
   "outputs": [],
   "source": [
    "import pandas as pd\n",
    "from sklearn.model_selection import train_test_split\n",
    "from sklearn.linear_model import LogisticRegression\n",
    "from sklearn.preprocessing import LabelEncoder, Normalizer\n",
    "from sklearn.metrics import roc_curve, roc_auc_score, confusion_matrix\n",
    "import seaborn as sns\n",
    "import matplotlib.pyplot as plt\n",
    "\n",
    "df = pd.read_csv(r\"C:\\Users\\fatih\\OneDrive\\Desktop\\car_price_prediction.csv\")\n",
    "\n",
    "# \"-\" olan değerleri ortalama ile doldur\n",
    "df['Levy'].replace('-', pd.NA, inplace=True)\n",
    "df['Levy'].fillna(df['Levy'].dropna().astype(float).mean(), inplace=True)\n",
    "df['Levy'] = df['Levy'].astype(float)\n",
    "\n",
    "# Kategorik ve sayısal sütunları bul ve Kategorik sütunları etiket kodla\n",
    "obj_col = [\"Manufacturer\", \"Model\", \"Category\", \"Leather interior\", \"Fuel type\", \"Engine volume\", \"Gear box type\", \"Drive wheels\", \"Doors\", \"Wheel\", \"Color\"]\n",
    "le = LabelEncoder()\n",
    "for col in obj_col:\n",
    "    df[col] = le.fit_transform(df[col])\n",
    "\n",
    "# Sayısal sütunları normalize et\n",
    "num_col = [\"Levy\", \"Prod. year\", \"Mileage\", \"Cylinders\", \"Airbags\"]\n",
    "norm = Normalizer()\n",
    "df[num_col] = norm.fit_transform(df[num_col])\n",
    "\n",
    "# Veriyi eğitim ve test setlerine ayır\n",
    "X = df.drop(columns=[\"ID\", \"Price\"])\n",
    "y = df['Price']\n",
    "\n",
    "# Lojistik regresyon modelini oluştur ve eğit\n",
    "X_train, X_test, y_train, y_test = train_test_split(X, y, test_size=0.33, random_state=42)\n",
    "log_reg = LogisticRegression()\n",
    "fit_model = log_reg.fit(X_train, y_train)\n",
    "\n",
    "# Tahminler yap\n",
    "preds = fit_model.predict(X_test)\n",
    "probs = fit_model.predict_proba(X_test)\n",
    "\n",
    "# Sonuçları bir veri çerçevesine dönüştür\n",
    "model_results = pd.DataFrame({\n",
    "    'PredictedClass': preds,\n",
    "    'TrueClass': y_test,\n",
    "    'ClassProb:0': probs[:, 0],\n",
    "    'ClassProb:1': probs[:, 1]\n",
    "})\n",
    "\n",
    "# Doğru sınıflandırma sayısını hesapla\n",
    "true_count = sum(preds == y_test)\n",
    "print(\"Number of True Classifications =\", true_count)\n",
    "print(\"Accurate Classification Ratio =\", true_count / len(y_test))"
   ]
  },
  {
   "cell_type": "code",
   "execution_count": null,
   "id": "2f7ac487-d00e-488b-a6de-23f72f55f626",
   "metadata": {},
   "outputs": [],
   "source": []
  }
 ],
 "metadata": {
  "kernelspec": {
   "display_name": "Python 3 (ipykernel)",
   "language": "python",
   "name": "python3"
  },
  "language_info": {
   "codemirror_mode": {
    "name": "ipython",
    "version": 3
   },
   "file_extension": ".py",
   "mimetype": "text/x-python",
   "name": "python",
   "nbconvert_exporter": "python",
   "pygments_lexer": "ipython3",
   "version": "3.11.7"
  }
 },
 "nbformat": 4,
 "nbformat_minor": 5
}
